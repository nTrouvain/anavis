{
 "cells": [
  {
   "cell_type": "markdown",
   "metadata": {},
   "source": [
    "# De la donnée brute à la donnée exploitable"
   ]
  },
  {
   "cell_type": "code",
   "execution_count": 1,
   "metadata": {},
   "outputs": [],
   "source": [
    "import io\n",
    "import re\n",
    "\n",
    "import pandas as pd\n",
    "import zipfile as zp\n",
    "import numpy as np\n",
    "import requests\n",
    "from tqdm import tqdm\n"
   ]
  },
  {
   "cell_type": "markdown",
   "metadata": {},
   "source": [
    "## Chargement des données brutes"
   ]
  },
  {
   "cell_type": "code",
   "execution_count": 2,
   "metadata": {},
   "outputs": [],
   "source": [
    "r = requests.get(\"https://www.labri.fr/perso/rgiot/cours/anavis/brut.zip\")\n",
    "zf = zp.ZipFile(io.BytesIO(r.content), mode=\"a\")"
   ]
  },
  {
   "cell_type": "code",
   "execution_count": null,
   "metadata": {},
   "outputs": [],
   "source": [
    "status_cols = [\"date\", \"Station\", \"Status\", \"Nombre de vélos disponibles\", \"Nombre d'emplacements disponibles\"]\n",
    "weather_cols = [\"Timestamp\",\"Status\",\"Clouds\",\"Humidity\",\"Pressure\",\"Rain\",\"WindGust\",\"WindVarEnd\",\"WindVarBeg\",\"WindDeg\",\"WindSpeed\",\"Snow\",\"TemperatureMax\",\"TemperatureMin\",\"TemperatureTemp\"]\n",
    "\n",
    "date_parser = lambda d: pd.datetime.strptime(d, '%Y-%m-%d %H:%M:%S')\n"
   ]
  },
  {
   "cell_type": "code",
   "execution_count": null,
   "metadata": {},
   "outputs": [],
   "source": [
    "summary = pd.read_csv(zf.open(\"brut/bicincitta_parma_summary.csv\"), sep=\";\")\n",
    "status = pd.read_csv(zf.open(\"brut/status_bicincitta_parma.csv\"), \n",
    "                     sep=\";\", \n",
    "                     header=None, \n",
    "                     names=status_cols,\n",
    "                     parse_dates=True,\n",
    "                     date_parser=date_parser)\n",
    "weather = pd.read_csv(zf.open(\"brut/weather_bicincitta_parma.csv\"),\n",
    "                     sep=\";\", \n",
    "                     header=None,\n",
    "                     names=weather_cols,\n",
    "                     parse_dates=True,\n",
    "                     date_parser=date_parser)"
   ]
  },
  {
   "cell_type": "code",
   "execution_count": null,
   "metadata": {},
   "outputs": [],
   "source": [
    "summary.head()"
   ]
  },
  {
   "cell_type": "code",
   "execution_count": null,
   "metadata": {},
   "outputs": [],
   "source": [
    "status.head()"
   ]
  },
  {
   "cell_type": "code",
   "execution_count": null,
   "metadata": {},
   "outputs": [],
   "source": [
    "weather.head()"
   ]
  },
  {
   "cell_type": "markdown",
   "metadata": {},
   "source": [
    "## Vérification du statut"
   ]
  },
  {
   "cell_type": "code",
   "execution_count": 8,
   "metadata": {},
   "outputs": [],
   "source": [
    "status = status[status.Status != 0]\n",
    "status = status[status.date != None]"
   ]
  },
  {
   "cell_type": "markdown",
   "metadata": {},
   "source": [
    "Aucune modification opérée sur les données météos. Toute les données sont valides."
   ]
  },
  {
   "cell_type": "markdown",
   "metadata": {},
   "source": [
    "## Normalisation des noms de stations"
   ]
  },
  {
   "cell_type": "code",
   "execution_count": 9,
   "metadata": {},
   "outputs": [],
   "source": [
    "index = status.groupby('Station').groups.keys()"
   ]
  },
  {
   "cell_type": "code",
   "execution_count": 10,
   "metadata": {
    "scrolled": true
   },
   "outputs": [
    {
     "data": {
      "text/plain": [
       "{'01. Duc': '01. Duc',\n",
       " '02. Ospedale Maggiore': '02. Ospedale Maggiore',\n",
       " '03. Traversetolo': '03. Traversetolo',\n",
       " '04. Campus Chimica': '04. Campus Chimica',\n",
       " '05. Stazione FF.SS.': '05. Stazione FF.SS.',\n",
       " '06. Ponte di Mezzo': '06. Ponte di Mezzo',\n",
       " '07. Santa Croce': '07. Santa Croce',\n",
       " '08. Bixio': '08. Bixio',\n",
       " '09. Farini': '09. Farini',\n",
       " '10. Barilla Center': '10. Barilla Center',\n",
       " '11. Dus': '11. Dus',\n",
       " '12. Barezzi': '12. Barezzi',\n",
       " '13. Borgo XX Marzo': '13. Borgo XX Marzo',\n",
       " '14. Garibaldi': '14. Garibaldi',\n",
       " '15. Repubblica': '15. Repubblica',\n",
       " '16. Toschi': '16. Toschi',\n",
       " '17. Rondani': '17. Rondani',\n",
       " '18. Crocetta': '18. Crocetta',\n",
       " '19. Boito': '19. Boito',\n",
       " '20. Efsa': '20. Efsa',\n",
       " '21. Kennedy': '21. Kennedy',\n",
       " '22. Cittadella': '22. Cittadella',\n",
       " '23. Vittoria': '23. Vittoria',\n",
       " '24. Campus': '24. Campus',\n",
       " '25. Ospedale': 0,\n",
       " '25. Ospedale - viale Osacca': 0,\n",
       " '26. Palasport': 0,\n",
       " 'Barezzi': '12. Barezzi',\n",
       " 'Barilla Center': '10. Barilla Center',\n",
       " 'Bixio': '08. Bixio',\n",
       " 'Boito': '19. Boito',\n",
       " 'Borgo XX Marzo': '13. Borgo XX Marzo',\n",
       " 'Campus': '24. Campus',\n",
       " 'Campus Chimica': '04. Campus Chimica',\n",
       " 'Cittadella': '22. Cittadella',\n",
       " 'Crocetta': '18. Crocetta',\n",
       " 'Duc': '01. Duc',\n",
       " 'Dus': '11. Dus',\n",
       " 'Efsa': '20. Efsa',\n",
       " 'Farini': '09. Farini',\n",
       " 'Garibaldi': '14. Garibaldi',\n",
       " 'Kennedy': '21. Kennedy',\n",
       " 'Ospedale Maggiore': '02. Ospedale Maggiore',\n",
       " 'Ponte di Mezzo': '06. Ponte di Mezzo',\n",
       " 'Repubblica': '15. Repubblica',\n",
       " 'Rondani': '17. Rondani',\n",
       " 'Santa Croce': '07. Santa Croce',\n",
       " 'Stazione FF.SS.': '05. Stazione FF.SS.',\n",
       " 'Toschi': '16. Toschi',\n",
       " 'Traversetolo': '03. Traversetolo',\n",
       " 'Vittoria': '23. Vittoria'}"
      ]
     },
     "execution_count": 10,
     "metadata": {},
     "output_type": "execute_result"
    }
   ],
   "source": [
    "match_dict = {}\n",
    "for i in index:\n",
    "    found = False\n",
    "    for station in summary['station']:\n",
    "        if not(re.search(i + \"$\", station) is None):\n",
    "            match_dict[i] = station\n",
    "            found = True\n",
    "    if not(found):\n",
    "        match_dict[i] = 0\n",
    "match_dict"
   ]
  },
  {
   "cell_type": "code",
   "execution_count": 11,
   "metadata": {},
   "outputs": [
    {
     "name": "stderr",
     "output_type": "stream",
     "text": [
      "100%|██████████| 51/51 [00:22<00:00,  2.32it/s]\n"
     ]
    }
   ],
   "source": [
    "for key, value in tqdm(match_dict.items()):\n",
    "    status.loc[status.Station == key, \"Station\"] = value"
   ]
  },
  {
   "cell_type": "code",
   "execution_count": 12,
   "metadata": {},
   "outputs": [],
   "source": [
    "status = status[status.Station != 0]"
   ]
  },
  {
   "cell_type": "markdown",
   "metadata": {},
   "source": [
    "## Rééchantillonnage des données"
   ]
  },
  {
   "cell_type": "code",
   "execution_count": 13,
   "metadata": {
    "scrolled": true
   },
   "outputs": [
    {
     "name": "stderr",
     "output_type": "stream",
     "text": [
      "100%|██████████| 51/51 [00:17<00:00,  2.88it/s]\n"
     ]
    }
   ],
   "source": [
    "resampled_status = {}\n",
    "\n",
    "for k,v in tqdm(match_dict.items()):\n",
    "    status_new = status[status['Station']==v]\n",
    "    status_new.index = pd.DatetimeIndex(status_new.date)\n",
    "    status_new = status_new.drop(columns=[\"Status\",\"Station\"])\n",
    "    resampled_status[v] = status_new.resample('10min').mean()\n",
    "    resampled_status[v].insert(0,'Station', v)"
   ]
  },
  {
   "cell_type": "code",
   "execution_count": 14,
   "metadata": {},
   "outputs": [],
   "source": [
    "\n",
    "weather_dropped = weather.drop(columns=['Clouds', 'WindGust','WindVarEnd','WindVarBeg', 'TemperatureMax', 'TemperatureMin',])\n"
   ]
  },
  {
   "cell_type": "code",
   "execution_count": 15,
   "metadata": {
    "scrolled": true
   },
   "outputs": [
    {
     "data": {
      "text/html": [
       "<div>\n",
       "<style scoped>\n",
       "    .dataframe tbody tr th:only-of-type {\n",
       "        vertical-align: middle;\n",
       "    }\n",
       "\n",
       "    .dataframe tbody tr th {\n",
       "        vertical-align: top;\n",
       "    }\n",
       "\n",
       "    .dataframe thead th {\n",
       "        text-align: right;\n",
       "    }\n",
       "</style>\n",
       "<table border=\"1\" class=\"dataframe\">\n",
       "  <thead>\n",
       "    <tr style=\"text-align: right;\">\n",
       "      <th></th>\n",
       "      <th>Status</th>\n",
       "      <th>Humidity</th>\n",
       "      <th>Pressure</th>\n",
       "      <th>Rain</th>\n",
       "      <th>WindDeg</th>\n",
       "      <th>WindSpeed</th>\n",
       "      <th>Snow</th>\n",
       "      <th>TemperatureTemp</th>\n",
       "    </tr>\n",
       "    <tr>\n",
       "      <th>Timestamp</th>\n",
       "      <th></th>\n",
       "      <th></th>\n",
       "      <th></th>\n",
       "      <th></th>\n",
       "      <th></th>\n",
       "      <th></th>\n",
       "      <th></th>\n",
       "      <th></th>\n",
       "    </tr>\n",
       "  </thead>\n",
       "  <tbody>\n",
       "    <tr>\n",
       "      <td>2014-11-14 09:30:00</td>\n",
       "      <td>clouds</td>\n",
       "      <td>100.0</td>\n",
       "      <td>1013.0</td>\n",
       "      <td>{u'3h': 0}</td>\n",
       "      <td>200.504</td>\n",
       "      <td>0.84</td>\n",
       "      <td>{}</td>\n",
       "      <td>9.0</td>\n",
       "    </tr>\n",
       "    <tr>\n",
       "      <td>2014-11-14 09:40:00</td>\n",
       "      <td>mist</td>\n",
       "      <td>100.0</td>\n",
       "      <td>1014.0</td>\n",
       "      <td>{u'3h': 0}</td>\n",
       "      <td>200.504</td>\n",
       "      <td>0.84</td>\n",
       "      <td>{}</td>\n",
       "      <td>10.0</td>\n",
       "    </tr>\n",
       "    <tr>\n",
       "      <td>2014-11-14 09:50:00</td>\n",
       "      <td>mist - clouds</td>\n",
       "      <td>100.0</td>\n",
       "      <td>1013.5</td>\n",
       "      <td>{u'3h': 0} - {u'3h': 0}</td>\n",
       "      <td>200.504</td>\n",
       "      <td>0.84</td>\n",
       "      <td>{} - {}</td>\n",
       "      <td>9.5</td>\n",
       "    </tr>\n",
       "    <tr>\n",
       "      <td>2014-11-14 10:00:00</td>\n",
       "      <td>mist - mist</td>\n",
       "      <td>100.0</td>\n",
       "      <td>1014.0</td>\n",
       "      <td>{u'3h': 0} - {u'3h': 0}</td>\n",
       "      <td>200.504</td>\n",
       "      <td>0.84</td>\n",
       "      <td>{} - {}</td>\n",
       "      <td>10.0</td>\n",
       "    </tr>\n",
       "    <tr>\n",
       "      <td>2014-11-14 10:10:00</td>\n",
       "      <td>clouds - mist</td>\n",
       "      <td>100.0</td>\n",
       "      <td>1013.5</td>\n",
       "      <td>{u'3h': 0} - {u'3h': 0}</td>\n",
       "      <td>200.504</td>\n",
       "      <td>0.84</td>\n",
       "      <td>{} - {}</td>\n",
       "      <td>9.5</td>\n",
       "    </tr>\n",
       "  </tbody>\n",
       "</table>\n",
       "</div>"
      ],
      "text/plain": [
       "                            Status  Humidity  Pressure  \\\n",
       "Timestamp                                                \n",
       "2014-11-14 09:30:00         clouds     100.0    1013.0   \n",
       "2014-11-14 09:40:00           mist     100.0    1014.0   \n",
       "2014-11-14 09:50:00  mist - clouds     100.0    1013.5   \n",
       "2014-11-14 10:00:00    mist - mist     100.0    1014.0   \n",
       "2014-11-14 10:10:00  clouds - mist     100.0    1013.5   \n",
       "\n",
       "                                        Rain  WindDeg  WindSpeed     Snow  \\\n",
       "Timestamp                                                                   \n",
       "2014-11-14 09:30:00               {u'3h': 0}  200.504       0.84       {}   \n",
       "2014-11-14 09:40:00               {u'3h': 0}  200.504       0.84       {}   \n",
       "2014-11-14 09:50:00  {u'3h': 0} - {u'3h': 0}  200.504       0.84  {} - {}   \n",
       "2014-11-14 10:00:00  {u'3h': 0} - {u'3h': 0}  200.504       0.84  {} - {}   \n",
       "2014-11-14 10:10:00  {u'3h': 0} - {u'3h': 0}  200.504       0.84  {} - {}   \n",
       "\n",
       "                     TemperatureTemp  \n",
       "Timestamp                             \n",
       "2014-11-14 09:30:00              9.0  \n",
       "2014-11-14 09:40:00             10.0  \n",
       "2014-11-14 09:50:00              9.5  \n",
       "2014-11-14 10:00:00             10.0  \n",
       "2014-11-14 10:10:00              9.5  "
      ]
     },
     "execution_count": 15,
     "metadata": {},
     "output_type": "execute_result"
    }
   ],
   "source": [
    "# Resampling weather_dropped DF in order to merge with status.\n",
    "weather_dropped.index = pd.DatetimeIndex(weather_dropped.Timestamp)\n",
    "weather_info = weather_dropped.resample('10min').agg({'Status': ' - '.join,'Humidity':np.mean,'Pressure':np.mean,'Rain':' - '.join,'WindDeg':max,'WindSpeed':np.mean,'Snow':' - '.join,'TemperatureTemp':np.mean})\n",
    "weather_info.head()\n"
   ]
  },
  {
   "cell_type": "code",
   "execution_count": 16,
   "metadata": {
    "scrolled": true
   },
   "outputs": [
    {
     "name": "stderr",
     "output_type": "stream",
     "text": [
      "100%|██████████| 25/25 [00:01<00:00, 18.26it/s]\n"
     ]
    }
   ],
   "source": [
    "# Merging status with weather.\n",
    "\n",
    "merged_status = {}\n",
    "for k,v in tqdm(resampled_status.items()):\n",
    "    temp = pd.concat([resampled_status[k], weather_info], axis=1)\n",
    "    merged_status[k] = temp\n",
    "\n"
   ]
  },
  {
   "cell_type": "code",
   "execution_count": 17,
   "metadata": {},
   "outputs": [
    {
     "data": {
      "text/html": [
       "<div>\n",
       "<style scoped>\n",
       "    .dataframe tbody tr th:only-of-type {\n",
       "        vertical-align: middle;\n",
       "    }\n",
       "\n",
       "    .dataframe tbody tr th {\n",
       "        vertical-align: top;\n",
       "    }\n",
       "\n",
       "    .dataframe thead th {\n",
       "        text-align: right;\n",
       "    }\n",
       "</style>\n",
       "<table border=\"1\" class=\"dataframe\">\n",
       "  <thead>\n",
       "    <tr style=\"text-align: right;\">\n",
       "      <th></th>\n",
       "      <th>Station</th>\n",
       "      <th>Nombre de vélos disponibles</th>\n",
       "      <th>Nombre d'emplacements disponibles</th>\n",
       "      <th>Status</th>\n",
       "      <th>Humidity</th>\n",
       "      <th>Pressure</th>\n",
       "      <th>Rain</th>\n",
       "      <th>WindDeg</th>\n",
       "      <th>WindSpeed</th>\n",
       "      <th>Snow</th>\n",
       "      <th>TemperatureTemp</th>\n",
       "    </tr>\n",
       "    <tr>\n",
       "      <th>date</th>\n",
       "      <th></th>\n",
       "      <th></th>\n",
       "      <th></th>\n",
       "      <th></th>\n",
       "      <th></th>\n",
       "      <th></th>\n",
       "      <th></th>\n",
       "      <th></th>\n",
       "      <th></th>\n",
       "      <th></th>\n",
       "      <th></th>\n",
       "    </tr>\n",
       "  </thead>\n",
       "  <tbody>\n",
       "    <tr>\n",
       "      <td>2014-11-14 09:30:00</td>\n",
       "      <td>02. Ospedale Maggiore</td>\n",
       "      <td>2.0</td>\n",
       "      <td>7.0</td>\n",
       "      <td>clouds</td>\n",
       "      <td>100.0</td>\n",
       "      <td>1013.0</td>\n",
       "      <td>{u'3h': 0}</td>\n",
       "      <td>200.504</td>\n",
       "      <td>0.84</td>\n",
       "      <td>{}</td>\n",
       "      <td>9.0</td>\n",
       "    </tr>\n",
       "    <tr>\n",
       "      <td>2014-11-14 09:40:00</td>\n",
       "      <td>02. Ospedale Maggiore</td>\n",
       "      <td>2.0</td>\n",
       "      <td>7.0</td>\n",
       "      <td>mist</td>\n",
       "      <td>100.0</td>\n",
       "      <td>1014.0</td>\n",
       "      <td>{u'3h': 0}</td>\n",
       "      <td>200.504</td>\n",
       "      <td>0.84</td>\n",
       "      <td>{}</td>\n",
       "      <td>10.0</td>\n",
       "    </tr>\n",
       "    <tr>\n",
       "      <td>2014-11-14 09:50:00</td>\n",
       "      <td>02. Ospedale Maggiore</td>\n",
       "      <td>2.0</td>\n",
       "      <td>7.0</td>\n",
       "      <td>mist - clouds</td>\n",
       "      <td>100.0</td>\n",
       "      <td>1013.5</td>\n",
       "      <td>{u'3h': 0} - {u'3h': 0}</td>\n",
       "      <td>200.504</td>\n",
       "      <td>0.84</td>\n",
       "      <td>{} - {}</td>\n",
       "      <td>9.5</td>\n",
       "    </tr>\n",
       "    <tr>\n",
       "      <td>2014-11-14 10:00:00</td>\n",
       "      <td>02. Ospedale Maggiore</td>\n",
       "      <td>2.0</td>\n",
       "      <td>7.0</td>\n",
       "      <td>mist - mist</td>\n",
       "      <td>100.0</td>\n",
       "      <td>1014.0</td>\n",
       "      <td>{u'3h': 0} - {u'3h': 0}</td>\n",
       "      <td>200.504</td>\n",
       "      <td>0.84</td>\n",
       "      <td>{} - {}</td>\n",
       "      <td>10.0</td>\n",
       "    </tr>\n",
       "    <tr>\n",
       "      <td>2014-11-14 10:10:00</td>\n",
       "      <td>02. Ospedale Maggiore</td>\n",
       "      <td>2.0</td>\n",
       "      <td>7.0</td>\n",
       "      <td>clouds - mist</td>\n",
       "      <td>100.0</td>\n",
       "      <td>1013.5</td>\n",
       "      <td>{u'3h': 0} - {u'3h': 0}</td>\n",
       "      <td>200.504</td>\n",
       "      <td>0.84</td>\n",
       "      <td>{} - {}</td>\n",
       "      <td>9.5</td>\n",
       "    </tr>\n",
       "  </tbody>\n",
       "</table>\n",
       "</div>"
      ],
      "text/plain": [
       "                                   Station  Nombre de vélos disponibles  \\\n",
       "date                                                                      \n",
       "2014-11-14 09:30:00  02. Ospedale Maggiore                          2.0   \n",
       "2014-11-14 09:40:00  02. Ospedale Maggiore                          2.0   \n",
       "2014-11-14 09:50:00  02. Ospedale Maggiore                          2.0   \n",
       "2014-11-14 10:00:00  02. Ospedale Maggiore                          2.0   \n",
       "2014-11-14 10:10:00  02. Ospedale Maggiore                          2.0   \n",
       "\n",
       "                     Nombre d'emplacements disponibles         Status  \\\n",
       "date                                                                    \n",
       "2014-11-14 09:30:00                                7.0         clouds   \n",
       "2014-11-14 09:40:00                                7.0           mist   \n",
       "2014-11-14 09:50:00                                7.0  mist - clouds   \n",
       "2014-11-14 10:00:00                                7.0    mist - mist   \n",
       "2014-11-14 10:10:00                                7.0  clouds - mist   \n",
       "\n",
       "                     Humidity  Pressure                     Rain  WindDeg  \\\n",
       "date                                                                        \n",
       "2014-11-14 09:30:00     100.0    1013.0               {u'3h': 0}  200.504   \n",
       "2014-11-14 09:40:00     100.0    1014.0               {u'3h': 0}  200.504   \n",
       "2014-11-14 09:50:00     100.0    1013.5  {u'3h': 0} - {u'3h': 0}  200.504   \n",
       "2014-11-14 10:00:00     100.0    1014.0  {u'3h': 0} - {u'3h': 0}  200.504   \n",
       "2014-11-14 10:10:00     100.0    1013.5  {u'3h': 0} - {u'3h': 0}  200.504   \n",
       "\n",
       "                     WindSpeed     Snow  TemperatureTemp  \n",
       "date                                                      \n",
       "2014-11-14 09:30:00       0.84       {}              9.0  \n",
       "2014-11-14 09:40:00       0.84       {}             10.0  \n",
       "2014-11-14 09:50:00       0.84  {} - {}              9.5  \n",
       "2014-11-14 10:00:00       0.84  {} - {}             10.0  \n",
       "2014-11-14 10:10:00       0.84  {} - {}              9.5  "
      ]
     },
     "execution_count": 17,
     "metadata": {},
     "output_type": "execute_result"
    }
   ],
   "source": [
    "merged_status[\"02. Ospedale Maggiore\"].head()"
   ]
  },
  {
   "cell_type": "code",
   "execution_count": null,
   "metadata": {},
   "outputs": [],
   "source": [
    "import os\n",
    "\n",
    "for k,v in tqdm(merged_status.items()):\n",
    "    if not os.path.exists(f\"data/{k}\"):\n",
    "        os.makedirs(f\"data/{k}\")\n",
    "    v.to_csv(f\"data/{k}/{k}.csv.gzip\", compression='gzip')"
   ]
  },
  {
   "cell_type": "code",
   "execution_count": 40,
   "metadata": {},
   "outputs": [
    {
     "name": "stderr",
     "output_type": "stream",
     "text": [
      "/home/jules/.local/lib/python3.6/site-packages/ipykernel_launcher.py:8: FutureWarning: Creating a DatetimeIndex by passing range endpoints is deprecated.  Use `pandas.date_range` instead.\n",
      "  \n"
     ]
    }
   ],
   "source": [
    "from datetime import datetime\n",
    "\n",
    "for k,v in merged_status.items():\n",
    "    \n",
    "    lol = pd.date_range(start = v.index[0], end = v.index[len(v)-1], freq='10min' ).difference(v.index)\n",
    "    \n",
    "    # creating reference DatetimeIndex idx_ref with a minute frequency\n",
    "    idx_ref = pd.DatetimeIndex(start = v.index[0], end = v.index[len(v)-1],freq='10min')\n",
    "\n",
    "    # idx_dat represents your DatetimeIndex from the sensor\n",
    "    gaps = idx_ref[~idx_ref.isin(v.index)]\n",
    "    print(gaps)"
   ]
  }
 ],
 "metadata": {
  "kernelspec": {
   "display_name": "Python 3",
   "language": "python",
   "name": "python3"
  },
  "language_info": {
   "codemirror_mode": {
    "name": "ipython",
    "version": 3
   },
   "file_extension": ".py",
   "mimetype": "text/x-python",
   "name": "python",
   "nbconvert_exporter": "python",
   "pygments_lexer": "ipython3",
   "version": "3.6.8"
  }
 },
 "nbformat": 4,
 "nbformat_minor": 4
}
